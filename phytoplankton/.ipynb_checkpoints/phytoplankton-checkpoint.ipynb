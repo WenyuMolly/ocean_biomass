{
 "cells": [
  {
   "cell_type": "code",
   "execution_count": 5,
   "metadata": {},
   "outputs": [],
   "source": [
    "#Load dependencies\n",
    "\n",
    "import pandas as pd\n",
    "import numpy as np\n",
    "from scipy.stats import gmean\n",
    "import sys\n",
    "sys.path.insert(0,'../statistics_helper/')\n",
    "from CI_helper import *\n",
    "from fraction_helper import *\n",
    "from excel_utils import *\n",
    "pd.options.display.float_format = '{:,.1e}'.format\n"
   ]
  },
  {
   "cell_type": "markdown",
   "metadata": {},
   "source": [
    "## Bottom-up\n",
    "\n",
    "### Picoeukaryotes\n",
    "We estimate the total biomass of picoeukaryotes by first estimating the total biomass of picophytoplankton, and then calculating the fraction of eukaryotes out of the total biomass of picophytoplankton. Buitenhuis et al. reports a \"minimum\" estimate of 0.28 Gt C and a \"maximum\" estimate of 0.64 Gt C for the biomass of picophytoplankton. We calculate the geometric mean of those estimates:"
   ]
  },
  {
   "cell_type": "code",
   "execution_count": 3,
   "metadata": {},
   "outputs": [
    {
     "data": {
      "text/plain": [
       "0.42332020977033513"
      ]
     },
     "execution_count": 3,
     "metadata": {},
     "output_type": "execute_result"
    }
   ],
   "source": [
    "# Calculate the geometric mean of the \"minimum\" and \"maximum\" estimates from Buitenhuis et al.\n",
    "# for picophytoplankton\n",
    "picophyto_biomsss = gmean([0.28e15,0.64e15])\n",
    "picophyto_biomsss/1e15"
   ]
  },
  {
   "cell_type": "markdown",
   "metadata": {},
   "source": [
    "To estimate the fraction of eukaryotes out of the total biomass of picophytoplankton, we rely on [Buitenhuis et al.](https://ueaeprints.uea.ac.uk/40778/) which estimates that they represent 49-69% of the global biomass of picophytoplankton. We use the geometric mean of this range as our best estimate of the fraction eukaryotes out of the total biomass of picophytoplankton."
   ]
  },
  {
   "cell_type": "code",
   "execution_count": 10,
   "metadata": {},
   "outputs": [],
   "source": [
    "euk_frac = frac_mean(np.array([0.49,0.69]))\n",
    "auto_picoeuk_biomass = picophyto_biomsss*euk_frac\n",
    "cyano_biomass = picophyto_biomsss*(1-euk_frac)"
   ]
  },
  {
   "cell_type": "markdown",
   "metadata": {},
   "source": [
    "Picoeukaryotes contain both protists and plant species (like chlorophytes). It seems that, from the available literature, the biomass distribution between them is not strongly favored towards one class ([Li et al.](http://dx.doi.org/10.1016/0198-0149(92)90085-8)). We thus estimate the protist fraction at about 50% of the biomass of picoeukaryotes:"
   ]
  },
  {
   "cell_type": "code",
   "execution_count": 15,
   "metadata": {
    "collapsed": true
   },
   "outputs": [],
   "source": [
    "auto_pico_protists_fraction = 0.8\n",
    "auto_pico_protists_biomass = auto_picoeuk_biomass*auto_pico_protists_fraction\n",
    "auto_pico_plant_biomass = auto_picoeuk_biomass*auto_pico_protists_fraction"
   ]
  },
  {
   "cell_type": "markdown",
   "metadata": {},
   "source": [
    "## Diatoms\n",
    "For diatoms, Buitenhuis et al. reports a \"minimum\" estimate of 0.1 Gt C and a \"maximum\" estimate of 0.94 Gt C for the biomass of picophytoplankton. We calculate the geometric mean of those estimates:"
   ]
  },
  {
   "cell_type": "code",
   "execution_count": 11,
   "metadata": {
    "collapsed": true
   },
   "outputs": [
    {
     "data": {
      "text/plain": [
       "0.3065941943351184"
      ]
     },
     "execution_count": 11,
     "metadata": {},
     "output_type": "execute_result"
    }
   ],
   "source": [
    "# Calculate the geometric mean of the \"minimum\" and \"maximum\" estimates from Buitenhuis et al.\n",
    "# for diatoms\n",
    "diatom_biomsss = gmean([0.1e15,0.94e15])\n",
    "diatom_biomsss/1e15"
   ]
  },
  {
   "cell_type": "markdown",
   "metadata": {},
   "source": [
    "## Phaeocystis\n",
    "For Phaeocystis, reports a \"minimum\" estimate of 0.11 Gt C and a \"maximum\" estimate of 0.71 Gt C for the biomass of picophytoplankton. We calculate the geometric mean of those estimates:"
   ]
  },
  {
   "cell_type": "code",
   "execution_count": 12,
   "metadata": {
    "collapsed": true
   },
   "outputs": [
    {
     "data": {
      "text/plain": [
       "0.2794637722496416"
      ]
     },
     "execution_count": 12,
     "metadata": {},
     "output_type": "execute_result"
    }
   ],
   "source": [
    "# Calculate the geometric mean of the \"minimum\" and \"maximum\" estimates from Buitenhuis et al.\n",
    "# for Phaeocystis\n",
    "phaeocystis_biomsss = gmean([0.11e15,0.71e15])\n",
    "phaeocystis_biomsss/1e15"
   ]
  },
  {
   "cell_type": "markdown",
   "metadata": {},
   "source": [
    "As stated in Buitenhuis et al., the data from the MAREDAT initiative doesn’t contain the biomass of nanophytoplankton (phytoplankton between 2 and 20 µm) and autotrophic dinoflagellates. Nevertheless, this omission might be compensated by overestimation of Phaeocystis biomass because of sampling bias, so overall the sum of all the different phytoplankton fits well with total chlorophyll measurements from the WOA 2005.\n",
    "\n",
    "### Overall phytoplankton biomass\n",
    "We sum the contributions from each group (cyanobacteria, protists and plants):"
   ]
  },
  {
   "cell_type": "code",
   "execution_count": 33,
   "metadata": {},
   "outputs": [
    {
     "data": {
      "text/plain": [
       "1.110504041928201"
      ]
     },
     "execution_count": 33,
     "metadata": {},
     "output_type": "execute_result"
    }
   ],
   "source": [
    "bottom_cyano = cyano_biomass\n",
    "bottom_protist = auto_pico_protists_biomass+diatom_biomsss+phaeocystis_biomsss\n",
    "bottom_plant = (bottom_cyano+diatom_biomsss+phaeocystis_biomsss+auto_picoeuk_biomass)*0.15\n",
    "\n",
    "(bottom_cyano+bottom_plant+botton_protist)/1e15"
   ]
  },
  {
   "cell_type": "markdown",
   "metadata": {},
   "source": [
    "## Top-down\n",
    "\n",
    "We use an estimate for the total biomass of phytoplankton of 0.4 Gt C from (Behrenfeld et al. 2005; Silsbe et al. 2016). Similar to our earlier estimate, we assume green microalgae account for ≈15% of the total biomass of phytoplankton, which corresponds to:"
   ]
  },
  {
   "cell_type": "code",
   "execution_count": 25,
   "metadata": {},
   "outputs": [
    {
     "data": {
      "text/plain": [
       "0.06"
      ]
     },
     "execution_count": 25,
     "metadata": {},
     "output_type": "execute_result"
    }
   ],
   "source": [
    "tot_phy = 0.4e15\n",
    "top_plant = tot_phy*0.15\n",
    "top_plant/1e15"
   ]
  },
  {
   "cell_type": "markdown",
   "metadata": {},
   "source": [
    "We estimate the contribution from cyanobacteria based on Flombaum et al. 2013. Flombaum et al. estimate a total of $≈3×10^{27}$ and $≈7×10^{26}$ cells for Prochlorococcus and Synechococcus, respectively. To convert cellular abundances into biomass, we need to rely on estimates for the carbon content of both Prochlorococcus and Synechococcus. Data from the literature, both from culture data as well as from indirect measurements in the field suggest the range of 16-92 fg C cell$^{-1}$ for Prochlorococcus and 82-600 fg C cell$^{-1}$ for Synechococcus [8]. Data suggests that the carbon content of Prochlorococcus and Synechococcus is dependent on the ambient illumination conditions, with cells have lower carbon content at higher illumination [7]. We use a value of ≈50 fg C cell-1 for Prochlorococcus and ≈100 fg C cell-1 for Synechococcus [7], which correspond to a global estimate of ≈0.2 Gt C. "
   ]
  },
  {
   "cell_type": "code",
   "execution_count": 24,
   "metadata": {},
   "outputs": [
    {
     "data": {
      "text/plain": [
       "0.22"
      ]
     },
     "execution_count": 24,
     "metadata": {},
     "output_type": "execute_result"
    }
   ],
   "source": [
    "proc = 3e27\n",
    "proc_cc = 50e-15\n",
    "syne = 7e26\n",
    "syne_cc = 100e-15\n",
    "\n",
    "proc_biomass = proc*proc_cc\n",
    "syne_bioamss = syne*syne_cc\n",
    "top_cyano = proc_biomass+syne_bioamss\n",
    "top_cyano/1e15"
   ]
  },
  {
   "cell_type": "markdown",
   "metadata": {},
   "source": [
    "Using the biomass estimates for the global biomass of phytoplanton, this leaves ≈0.12 Gt C for protist phytoplankton:"
   ]
  },
  {
   "cell_type": "code",
   "execution_count": 28,
   "metadata": {},
   "outputs": [
    {
     "data": {
      "text/plain": [
       "0.12"
      ]
     },
     "execution_count": 28,
     "metadata": {},
     "output_type": "execute_result"
    }
   ],
   "source": [
    "top_protist = tot_phy-top_plant-top_cyano\n",
    "top_protist/1e15"
   ]
  },
  {
   "cell_type": "markdown",
   "metadata": {},
   "source": [
    "As our best estimate, we use the geometric mean of the estimates based on the bottom-up and top-down approaches."
   ]
  },
  {
   "cell_type": "code",
   "execution_count": 30,
   "metadata": {},
   "outputs": [
    {
     "data": {
      "text/plain": [
       "0.19447750302104247"
      ]
     },
     "execution_count": 30,
     "metadata": {},
     "output_type": "execute_result"
    }
   ],
   "source": [
    "best_cyano = gmean([bottom_cyano,top_cyano])\n",
    "best_cyano/1e15"
   ]
  },
  {
   "cell_type": "code",
   "execution_count": 31,
   "metadata": {},
   "outputs": [
    {
     "data": {
      "text/plain": [
       "0.09531213766984678"
      ]
     },
     "execution_count": 31,
     "metadata": {},
     "output_type": "execute_result"
    }
   ],
   "source": [
    "best_plant = gmean([bottom_plant,top_plant])\n",
    "best_plant/1e15"
   ]
  },
  {
   "cell_type": "code",
   "execution_count": 34,
   "metadata": {},
   "outputs": [
    {
     "data": {
      "text/plain": [
       "0.30734633430813374"
      ]
     },
     "execution_count": 34,
     "metadata": {},
     "output_type": "execute_result"
    }
   ],
   "source": [
    "best_protist = gmean([bottom_protist,top_protist])\n",
    "best_protist/1e15"
   ]
  },
  {
   "cell_type": "markdown",
   "metadata": {},
   "source": [
    "## Uncertainty\n",
    "We rely on the difference between our bottom-up and top-down approaches as our best projection for the uncertainty associated with our estimates of the biomass of protist phytoplankton and protist phytoplankton:"
   ]
  },
  {
   "cell_type": "code",
   "execution_count": 35,
   "metadata": {},
   "outputs": [
    {
     "data": {
      "text/plain": [
       "2.4771598992787807"
      ]
     },
     "execution_count": 35,
     "metadata": {},
     "output_type": "execute_result"
    }
   ],
   "source": [
    "plant_CI = geo_CI_calc(np.array([bottom_plant,top_plant]))\n",
    "plant_CI"
   ]
  },
  {
   "cell_type": "code",
   "execution_count": 36,
   "metadata": {},
   "outputs": [
    {
     "data": {
      "text/plain": [
       "6.317652174209576"
      ]
     },
     "execution_count": 36,
     "metadata": {},
     "output_type": "execute_result"
    }
   ],
   "source": [
    "protist_CI = geo_CI_calc(np.array([bottom_protist,top_protist]))\n",
    "protist_CI"
   ]
  }
 ],
 "metadata": {
  "kernelspec": {
   "display_name": "Python 3",
   "language": "python",
   "name": "python3"
  },
  "language_info": {
   "codemirror_mode": {
    "name": "ipython",
    "version": 3
   },
   "file_extension": ".py",
   "mimetype": "text/x-python",
   "name": "python",
   "nbconvert_exporter": "python",
   "pygments_lexer": "ipython3",
   "version": "3.6.7"
  }
 },
 "nbformat": 4,
 "nbformat_minor": 2
}
