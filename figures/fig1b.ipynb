{
 "cells": [
  {
   "cell_type": "code",
   "execution_count": 1,
   "metadata": {},
   "outputs": [],
   "source": [
    "import pandas as pd\n",
    "import matplotlib.pyplot as plt\n",
    "import matplotlib as mpl\n",
    "from scipy import optimize\n",
    "import numpy as np\n",
    "\n",
    "from scipy.optimize import curve_fit\n",
    "from scipy.stats import  gmean,norm\n",
    "\n",
    "%matplotlib inline\n",
    "mpl.rcParams['axes.spines.left'] = False\n",
    "mpl.rcParams['axes.spines.left'] = False\n",
    "mpl.rcParams['xtick.labelsize'] = 7\n",
    "mpl.rcParams['ytick.labelsize'] = 7\n",
    "mpl.rcParams['axes.labelsize'] = 7"
   ]
  },
  {
   "cell_type": "code",
   "execution_count": 2,
   "metadata": {},
   "outputs": [],
   "source": [
    "def hex_to_rgb(h):\n",
    "    return tuple(int(h[i:i+2], 16) for i in (0, 2, 4))"
   ]
  },
  {
   "cell_type": "code",
   "execution_count": 3,
   "metadata": {},
   "outputs": [],
   "source": [
    "def generate_cmap (color):\n",
    "    from matplotlib.colors import ListedColormap\n",
    "    N = 256\n",
    "    vals = np.ones((N, 4))\n",
    "    vals[:, 0] = np.linspace(1,color[0]/256, N)\n",
    "    vals[:, 1] = np.linspace(1,color[1]/256, N)\n",
    "    vals[:, 2] = np.linspace(1,color[2]/256, N)\n",
    "    newcmp = ListedColormap(vals)\n",
    "    return newcmp"
   ]
  },
  {
   "cell_type": "code",
   "execution_count": 4,
   "metadata": {},
   "outputs": [],
   "source": [
    "colors = {'animals':'ff6666','archaea':'9372b2','bacteria':'ff9e69','fungi':'ffe995','plants':'5cb15c','protists':'5f8dd3','viruses':'ababab'}"
   ]
  },
  {
   "cell_type": "code",
   "execution_count": 6,
   "metadata": {},
   "outputs": [],
   "source": [
    "run = '20190829'\n",
    "data = pd.read_csv('agg_data.csv',index_col=0)\n",
    "data_with_color = pd.concat([data,(pd.DataFrame.from_dict(colors,orient='index',columns=['color']))],axis=1,sort=False)\n",
    "data_with_color['log biomass'] = np.log(data_with_color['Biomass'])\n",
    "data_with_color['bottom'] = data_with_color['log biomass'] - np.log(data_with_color['Uncertainty'])\n",
    "data_with_color.sort_values(by='log biomass',ascending=False,inplace=True)"
   ]
  },
  {
   "cell_type": "code",
   "execution_count": 7,
   "metadata": {},
   "outputs": [
    {
     "name": "stderr",
     "output_type": "stream",
     "text": [
      "/usr/lib/python3/dist-packages/ipykernel_launcher.py:9: DeprecationWarning: object of type <class 'float'> cannot be safely interpreted as an integer.\n",
      "  if __name__ == '__main__':\n"
     ]
    },
    {
     "data": {
      "image/png": "[encoded data removed]",
      "text/plain": [
       "<Figure size 165.6x115.2 with 1 Axes>"
      ]
     },
     "metadata": {
      "needs_background": "light"
     },
     "output_type": "display_data"
    }
   ],
   "source": [
    "fig, ax = plt.subplots(figsize=(2.3,1.6))\n",
    "\n",
    "bar = ax.barh(np.arange(data_with_color.shape[0])[::-1],width = 2*np.log(data_with_color['Uncertainty']),left=data_with_color['bottom'],height=0.3)\n",
    "plt.tick_params(axis='y', which='both', right=False, left=False)\n",
    "\n",
    "plt.gca().spines['left'].set_visible(False)\n",
    "\n",
    "def gradientbars(bars,data):\n",
    "    x = np.linspace(norm.ppf(0.05),norm.ppf(0.95), 1e3)\n",
    "    vals = norm.pdf(x)/norm.pdf(x).max()\n",
    "    \n",
    "    grad = np.atleast_2d(vals)\n",
    "    ax = bars[0].axes\n",
    "    lim = ax.get_xlim()+ax.get_ylim()\n",
    "    for bar,c in zip(bars,data['color']):\n",
    "        bar.set_zorder(1)\n",
    "        bar.set_facecolor(\"none\")\n",
    "        x,y = bar.get_xy()\n",
    "        w, h = bar.get_width(), bar.get_height()\n",
    "        ycmp = generate_cmap(hex_to_rgb(c))\n",
    "        ax.imshow(grad, extent=[x,x+w,y,y+h], aspect=\"auto\", zorder=0,cmap=ycmp)\n",
    "    ax.axis(lim)\n",
    "\n",
    "gradientbars(bar,data_with_color)\n",
    "ax.set_xticks(np.log([0.03,0.1,0.3,1,3]))\n",
    "ax.set_xticklabels([0.03,0.1,0.3,1,3])\n",
    "ax.set_xlim(np.log([0.01,8]))\n",
    "ax.set_yticks([0,1,2,3,4,5,6])\n",
    "ax.set_yticklabels(data_with_color.index.values[::-1])\n",
    "ax.scatter(np.arange(data_with_color.shape[0])[::-1],y=data_with_color['log biomass'])\n",
    "ax.scatter(data_with_color['log biomass'],np.arange(data_with_color.shape[0])[::-1],c='w',edgecolors='k',s=10,linewidths=1)\n",
    "ax.set_xlabel('biomass [Gt C]')\n",
    "ax.xaxis.grid() # vertical lines\n",
    "\n",
    "plt.box(on=None)\n",
    "plt.gca().spines['left'].set_visible(False)\n",
    "plt.savefig('fig1b_'+run+'.eps',dpi=300)\n",
    "plt.savefig('fig1b_'+run+'.svg',dpi=300)\n",
    "plt.savefig('fig1b_'+run+'.png',dpi=300)"
   ]
  }
 ],
 "metadata": {
  "kernelspec": {
   "display_name": "Python 3",
   "language": "python",
   "name": "python3"
  },
  "language_info": {
   "codemirror_mode": {
    "name": "ipython",
    "version": 3
   },
   "file_extension": ".py",
   "mimetype": "text/x-python",
   "name": "python",
   "nbconvert_exporter": "python",
   "pygments_lexer": "ipython3",
   "version": "3.7.3"
  }
 },
 "nbformat": 4,
 "nbformat_minor": 2
}
