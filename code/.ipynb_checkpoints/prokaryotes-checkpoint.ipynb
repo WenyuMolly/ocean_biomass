{
 "cells": [
  {
   "cell_type": "code",
   "execution_count": 1,
   "metadata": {},
   "outputs": [],
   "source": [
    "# Load dependencies\n",
    "import pandas as pd\n",
    "import numpy as np\n",
    "import geopandas as gpd\n",
    "from scipy.stats import gmean\n",
    "import sys\n",
    "sys.path.insert(0, '../statistics_helper/')\n",
    "from fraction_helper import *\n",
    "from stats_helper import *\n",
    "from excel_utils import *\n",
    "from CI_helper import *"
   ]
  },
  {
   "cell_type": "markdown",
   "metadata": {},
   "source": [
    "# Estimating the biomass of marine bacteria and archaea\n",
    "\n",
    "We consider several dominant groups of marine protists broadly categorized to several groups - planktonic protists, protist macroalgae, and particle-attached protists. As discussed in the SI, the contribution from microphytobenthos is neglegible.\n",
    "\n",
    "## Number of cells"
   ]
  },
  {
   "cell_type": "code",
   "execution_count": null,
   "metadata": {},
   "outputs": [],
   "source": []
  }
 ],
 "metadata": {
  "kernelspec": {
   "display_name": "Python 3",
   "language": "python",
   "name": "python3"
  },
  "language_info": {
   "codemirror_mode": {
    "name": "ipython",
    "version": 3
   },
   "file_extension": ".py",
   "mimetype": "text/x-python",
   "name": "python",
   "nbconvert_exporter": "python",
   "pygments_lexer": "ipython3",
   "version": "3.5.2"
  }
 },
 "nbformat": 4,
 "nbformat_minor": 4
}
