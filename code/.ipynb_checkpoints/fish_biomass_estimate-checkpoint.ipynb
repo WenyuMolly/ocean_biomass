{
 "cells": [
  {
   "cell_type": "code",
   "execution_count": 1,
   "metadata": {
    "collapsed": true
   },
   "outputs": [],
   "source": [
    "# Load dependencies\n",
    "import numpy as np\n",
    "import pandas as pd\n",
    "import matplotlib.pyplot as plt\n",
    "%matplotlib inline  \n",
    "pd.options.display.float_format = '{:,.1e}'.format\n",
    "from scipy.stats import gmean\n",
    "import sys\n",
    "sys.path.insert(0, '../statistics_helper')\n",
    "from CI_helper import *\n",
    "from excel_utils import *"
   ]
  },
  {
   "cell_type": "markdown",
   "metadata": {},
   "source": [
    "# Estimating the biomass of fish\n",
    "To estimate the biomass of fish, we first estimate the total biomass of mesopelagic fish, and then add to this estimate the estmimate for the non-mesopelagic fish made by [Wilson et al.](http://dx.doi.org/10.1126/science.1157972). \n",
    "\n",
    "In order to estimate the biomass of mesopelagic fish, we rely on two independent methods - and estimate based on trawling by [Lam & Pauly](http://www.seaaroundus.org/doc/Researcher+Publications/dpauly/PDF/2005/OtherItems/MappingGlobalBiomassMesopelagicFishes.pdf), and an estimate based on sonar.\n",
    "\n",
    "## Mesopelagic fihs\n",
    "### Sonar-based estimate\n",
    "We generate the sonar-based estimate relying on data from [Proud et al.](https://doi.org/10.1093/icesjms/fsy037), which integrates global samples of acoustic backscatter from the deep scattering layer along with a detailed acoustic model for converting the backscatter into fish biomass. We rely on the estimate by Proud  et al. assuming all of the acoustic backscatter originates from mesopelagic fish. We rely on the estimates in Table 3, which consideres 3 different scenarios for the fraction of mesopelagic fish harboring a gas-filled swimbladder, which is the main source for acoustic backscattering. We use the geometic mean of the three scenarios in Table 3 of Proud et al. as our best estimate for the biomass of mesopelagic fish based on acoustic sampling."
   ]
  },
  {
   "cell_type": "code",
   "execution_count": 2,
   "metadata": {},
   "outputs": [
    {
     "name": "stdout",
     "output_type": "stream",
     "text": [
      "Our best estimate for the biomass of mesopelagic fish based on acoustic measurements is 9.8 Gt wet weight\n"
     ]
    }
   ],
   "source": [
    "best_acoustic = gmean([7.082e15,8.588e15,15.255e15])\n",
    "print('Our best estimate for the biomass of mesopelagic fish based on acoustic measurements is %.1f Gt wet weight' %(best_acoustic/1e15))"
   ]
  },
  {
   "cell_type": "markdown",
   "metadata": {},
   "source": [
    "### Trawling-based estimate\n",
    "As a second methodology for estimating the biomass of mesopelagic fish we rely on [Lam & Pauly](http://www.seaaroundus.org/doc/Researcher+Publications/dpauly/PDF/2005/OtherItems/MappingGlobalBiomassMesopelagicFishes.pdf), which give an estimate of ≈1 Gt wet weight for the global biomass of mesopelagic fish based on trawling"
   ]
  },
  {
   "cell_type": "code",
   "execution_count": 3,
   "metadata": {},
   "outputs": [],
   "source": [
    "# The estimate of the global biomass of mesopelagic fish based on trawling reported in Lan & Pauly\n",
    "trawling_biomass = 1e15"
   ]
  },
  {
   "cell_type": "markdown",
   "metadata": {},
   "source": [
    "### Best estimate\n",
    "The trawling-based estimate is likely to be an underestimate as some mesopelagic fish can avoid the trawls, whereas the sonar-based estimate is likely an overestimate as additional groups of organisms, namely siphonophores, can contribute significantly to the acoustic backscatter. Thus, we use the geometric mean of the trawling-based estimate and the sonar-based estimate as our best estimate for the global wet weight of mesopelagic fish."
   ]
  },
  {
   "cell_type": "code",
   "execution_count": 4,
   "metadata": {},
   "outputs": [
    {
     "name": "stdout",
     "output_type": "stream",
     "text": [
      "Our best estimate for the wet biomass of mesopelagic fish is ≈3.1 Gt wet weight\n"
     ]
    }
   ],
   "source": [
    "best_meso_wet = gmean([best_acoustic,trawling_biomass])\n",
    "print('Our best estimate for the wet biomass of mesopelagic fish is ≈%.1f Gt wet weight' %(best_meso_wet/1e15))"
   ]
  },
  {
   "cell_type": "markdown",
   "metadata": {},
   "source": [
    "### Conversion to carbon content\n",
    "To convert the wet biomass of mesopelagic fish into carbon content, we rely on several studies measuring the carbon content of mesopelagic fish:"
   ]
  },
  {
   "cell_type": "code",
   "execution_count": 5,
   "metadata": {},
   "outputs": [
    {
     "name": "stdout",
     "output_type": "stream",
     "text": [
      "Our best estimate for the biomass of mesopelagic fish is ≈0.4 Gt C\n"
     ]
    }
   ],
   "source": [
    "cc_data = pd.read_excel('../data/fish_biomass_data.xlsx')\n",
    "meso_cc = ((1-cc_data['Water content'])*cc_data['Carbon content from dry weight']).mean()\n",
    "\n",
    "best_meso = best_meso_wet*meso_cc\n",
    "print('Our best estimate for the biomass of mesopelagic fish is ≈%.1f Gt C' %(best_meso/1e15))"
   ]
  },
  {
   "cell_type": "markdown",
   "metadata": {},
   "source": [
    "Finally, we add to our estimate of the biomass of mesopelagic fish the estimate of biomass of non-mesopelagic fish made by [Wilson et al.](http://dx.doi.org/10.1126/science.1157972) to generate our estimate for the total biomass of fish."
   ]
  },
  {
   "cell_type": "code",
   "execution_count": 6,
   "metadata": {},
   "outputs": [
    {
     "name": "stdout",
     "output_type": "stream",
     "text": [
      "Our best estimate for the biomass of fish is ≈0.6 Gt C\n"
     ]
    }
   ],
   "source": [
    "# The estimate of non-mesopelagic fish based on Wilson et al.\n",
    "non_mesopelagic_fish_biomass = 1.5e14\n",
    "\n",
    "best_estimate = best_meso+non_mesopelagic_fish_biomass\n",
    "print('Our best estimate for the biomass of fish is ≈%.1f Gt C' %(best_estimate/1e15))"
   ]
  },
  {
   "cell_type": "markdown",
   "metadata": {},
   "source": [
    "# Uncertainty analysis\n",
    "\n",
    "In order to assess the uncertainty associated with our estimate for the biomass of fish, we assess the uncertainty associated with the sonar-based estimate of the biomass of mesopelagic fish, as well as for the non-mesopelagic fish biomass.\n",
    "\n",
    "## Mesopelagic fish uncertainty\n",
    "To quantify the uncertainty associated with our estimate of the biomass of mesopelagic fish, we first consider the uncertainty associated with the estimate based on acoustic measurements. In their study, Proud et al. report an uncertainty of ≈2-fold for the 25%-75% probability range for each scenario they consider, assuming the distribution of estimates is close to log-normal, this means that the 95% confidence interval of their estimate is ≈4-fold. \n",
    "\n",
    "In addition to this uncertainty, there is uncertainty stemming from the type of scenario they consider regarding the fraction of fish with gas-filled swim bladder. We calculate the multiplicative 95% confidence interval between the three different scenarios as an estimate for this type of uncertainty:"
   ]
  },
  {
   "cell_type": "code",
   "execution_count": 7,
   "metadata": {},
   "outputs": [
    {
     "name": "stdout",
     "output_type": "stream",
     "text": [
      "Our projection for the uncertainty associated with the choice of scenario regarding the fraction of mesopelagic fish with gas-filled swim bladder is 1.6-fold\n"
     ]
    }
   ],
   "source": [
    "swimbladder_CI = geo_CI_calc([7.082e15,8.588e15,15.255e15])\n",
    "print('Our projection for the uncertainty associated with the choice of scenario regarding the fraction of mesopelagic fish with gas-filled swim bladder is %.1f-fold' % swimbladder_CI)"
   ]
  },
  {
   "cell_type": "markdown",
   "metadata": {},
   "source": [
    "#### Inter-method uncertainty\n",
    "As a measure of the inter-method uncertainty of our estimate of the biomass of mesopelagic fish, we calculate the 95% confidence interval of the geometric mean of the sonar-based estimate and the trawling-based estimate."
   ]
  },
  {
   "cell_type": "code",
   "execution_count": 8,
   "metadata": {},
   "outputs": [
    {
     "name": "stdout",
     "output_type": "stream",
     "text": [
      "Our best projection for the inter method uncertainty associated with estimate of the biomass of mesopelagic fish is ≈9.3-fold\n"
     ]
    }
   ],
   "source": [
    "meso_inter_CI = geo_CI_calc(np.array([best_acoustic,trawling_biomass]))\n",
    "print('Our best projection for the inter method uncertainty associated with estimate of the biomass of mesopelagic fish is ≈%.1f-fold' %meso_inter_CI)\n",
    "\n",
    "# Take the highest uncertainty as our best projection for the uncertainty associated with the estimate\n",
    "# of the biomass of mesopelagic fish\n",
    "meso_CI = np.max([meso_inter_CI,4])"
   ]
  },
  {
   "cell_type": "markdown",
   "metadata": {},
   "source": [
    "Comparing our projections for the uncertainty of the sonar-based estimate of the biomass of mesopelagic fish and the inter-method uncertainty, our best projection for the biomass of mesopelagic fish is about one order of magnitude.\n",
    "\n",
    "## Non-mesopelagic fish biomass uncertainty\n",
    "For estimating the biomass of non-mesopelagic fish, we rely on estimates by Wilson et al., which does not report an uncertainty range for the biomass of non-meso pelagic fish. A later study ([Jennings et al.](https://doi.org/10.1371/journal.pone.0133794), gave an estimate for the total biomass of marine animals with body weight of 1 g to 1000 kg, based on ecological models. Jenning et al. reports a 90% confidence interval of 0.34-26.12 Gt wet weight, with a median estimate of ≈5 Gt wet weight. We take this range as a crude measure of the uncertainty associated with the estimate of the biomass of non-mesopelagic fish."
   ]
  },
  {
   "cell_type": "code",
   "execution_count": 9,
   "metadata": {},
   "outputs": [
    {
     "name": "stdout",
     "output_type": "stream",
     "text": [
      "Our best projection for the uncertainty associated with the estimate of the biomass of fish is ≈7-fold\n"
     ]
    }
   ],
   "source": [
    "# Calculate the uncertainty of the non-mesopelagic fish biomass\n",
    "non_meso_CI = np.max([26.12/5,5/0.34])\n",
    "\n",
    "# Propagate the uncertainties of mesopelagic fish biomass and non-mesopelagic fish biomass to the total estimate\n",
    "# of fish biomass\n",
    "mul_CI = CI_sum_prop(estimates=np.array([best_meso,non_mesopelagic_fish_biomass]), mul_CIs=np.array([meso_CI,non_meso_CI]))\n",
    "print('Our best projection for the uncertainty associated with the estimate of the biomass of fish is ≈%.0f-fold' %mul_CI)"
   ]
  },
  {
   "cell_type": "code",
   "execution_count": 10,
   "metadata": {},
   "outputs": [],
   "source": [
    "update_results(sheet='Data', \n",
    "               row='Fish', \n",
    "               col=['Biomass', 'Uncertainty'],\n",
    "               values=[best_estimate/1e15,mul_CI],\n",
    "               path='../results/results.xlsx')"
   ]
  }
 ],
 "metadata": {
  "kernelspec": {
   "display_name": "Python 3",
   "language": "python",
   "name": "python3"
  },
  "language_info": {
   "codemirror_mode": {
    "name": "ipython",
    "version": 3
   },
   "file_extension": ".py",
   "mimetype": "text/x-python",
   "name": "python",
   "nbconvert_exporter": "python",
   "pygments_lexer": "ipython3",
   "version": "3.5.2"
  }
 },
 "nbformat": 4,
 "nbformat_minor": 2
}
