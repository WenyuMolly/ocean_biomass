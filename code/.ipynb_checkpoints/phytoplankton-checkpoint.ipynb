{
 "cells": [
  {
   "cell_type": "code",
   "execution_count": 1,
   "metadata": {},
   "outputs": [],
   "source": [
    "#Load dependencies\n",
    "\n",
    "import pandas as pd\n",
    "import numpy as np\n",
    "from scipy.stats import gmean\n",
    "import sys\n",
    "sys.path.insert(0,'../statistics_helper/')\n",
    "from stats_helper import *\n",
    "from fraction_helper import *\n",
    "from CI_helper import *\n",
    "from excel_utils import *\n",
    "pd.options.display.float_format = '{:,.1e}'.format\n"
   ]
  },
  {
   "cell_type": "markdown",
   "metadata": {},
   "source": [
    "To estimate the global biomass of bacterial, plant and protist phytoplankton, we rely on two independent methodologies. The first approach is a bottom-up approach in which we estimate the contribution of each group of phytoplankton seperately, while the second approach is a top-down approach in which we first estimate the global biomass of all phytoplankton and then estimate the fraction each kingdom contributes to the biomass of phytoplankton."
   ]
  },
  {
   "cell_type": "markdown",
   "metadata": {},
   "source": [
    "## Bottom-up approach\n",
    "The groups of phytoplankton we consider in this analysis are `picoeukaryotes`, `diatoms`, `Phaeocystis`, and `Green algae`.\n",
    "\n",
    "### Picoeukaryotes\n",
    "We estimate the total biomass of picoeukaryotes by first estimating the total biomass of picophytoplankton, and then calculating the fraction of eukaryotes out of the total biomass of picophytoplankton. [Buitenhuis et al.](https://ueaeprints.uea.ac.uk/40778/) reports a \"minimum\" estimate of 0.28 Gt C and a \"maximum\" estimate of 0.64 Gt C for the biomass of picophytoplankton. We calculate the geometric mean of those estimates:"
   ]
  },
  {
   "cell_type": "code",
   "execution_count": 2,
   "metadata": {},
   "outputs": [
    {
     "name": "stdout",
     "output_type": "stream",
     "text": [
      "We estimate the global biomass of picophytoplankton based on our bottom-up approach at ≈0.4 Gt C\n"
     ]
    }
   ],
   "source": [
    "# Calculate the geometric mean of the \"minimum\" and \"maximum\" estimates from Buitenhuis et al.\n",
    "# for picophytoplankton\n",
    "picophyto_biomsss = gmean([0.28e15,0.64e15])\n",
    "print('We estimate the global biomass of picophytoplankton based on our bottom-up approach at ≈%.1f Gt C' % (picophyto_biomsss/1e15))"
   ]
  },
  {
   "cell_type": "markdown",
   "metadata": {},
   "source": [
    "To estimate the fraction of eukaryotes out of the total biomass of picophytoplankton, we rely on [Buitenhuis et al.](https://ueaeprints.uea.ac.uk/40778/) which estimates that they represent 49-69% of the global biomass of picophytoplankton. We use the geometric mean of this range as our best estimate of the fraction eukaryotes out of the total biomass of picophytoplankton."
   ]
  },
  {
   "cell_type": "code",
   "execution_count": 3,
   "metadata": {},
   "outputs": [],
   "source": [
    "euk_frac = frac_mean(np.array([0.49,0.69]))\n",
    "auto_picoeuk_biomass = picophyto_biomsss*euk_frac\n",
    "cyano_biomass = picophyto_biomsss*(1-euk_frac)"
   ]
  },
  {
   "cell_type": "markdown",
   "metadata": {},
   "source": [
    "Picoeukaryotes contain both protists and plant species (like chlorophytes). Based on a recent [study](https://doi.org/10.1111/1462-2920.13812), we assume green algae account for ≈20% of the biomass picoeukaryotes. This estimates has major caveats associated with it, as discussed in the SI. Thus we divide the totoal picoeukaryote biomass into protists and plant fractions:"
   ]
  },
  {
   "cell_type": "code",
   "execution_count": 4,
   "metadata": {
    "collapsed": true,
    "jupyter": {
     "outputs_hidden": true
    }
   },
   "outputs": [],
   "source": [
    "auto_pico_protists_fraction = 0.8\n",
    "auto_pico_protists_biomass = auto_picoeuk_biomass*auto_pico_protists_fraction\n",
    "auto_pico_plant_biomass = auto_picoeuk_biomass*auto_pico_protists_fraction"
   ]
  },
  {
   "cell_type": "markdown",
   "metadata": {},
   "source": [
    "## Diatoms\n",
    "For diatoms, [Buitenhuis et al.](https://ueaeprints.uea.ac.uk/40778/) reports a \"minimum\" estimate of 0.1 Gt C and a \"maximum\" estimate of 0.94 Gt C for the biomass of picophytoplankton. We calculate the geometric mean of those estimates:"
   ]
  },
  {
   "cell_type": "code",
   "execution_count": 5,
   "metadata": {
    "collapsed": true,
    "jupyter": {
     "outputs_hidden": true
    }
   },
   "outputs": [
    {
     "name": "stdout",
     "output_type": "stream",
     "text": [
      "We estimate the global biomass of diatoms based on our bottom-up approach at ≈0.3 Gt C\n"
     ]
    }
   ],
   "source": [
    "# Calculate the geometric mean of the \"minimum\" and \"maximum\" estimates from Buitenhuis et al.\n",
    "# for diatoms\n",
    "diatom_biomsss = gmean([0.1e15,0.94e15])\n",
    "print('We estimate the global biomass of diatoms based on our bottom-up approach at ≈%.1f Gt C' % (diatom_biomsss/1e15))"
   ]
  },
  {
   "cell_type": "markdown",
   "metadata": {},
   "source": [
    "## Phaeocystis\n",
    "For Phaeocystis, reports a \"minimum\" estimate of 0.11 Gt C and a \"maximum\" estimate of 0.71 Gt C for the biomass of picophytoplankton. We calculate the geometric mean of those estimates:"
   ]
  },
  {
   "cell_type": "code",
   "execution_count": 6,
   "metadata": {
    "collapsed": true,
    "jupyter": {
     "outputs_hidden": true
    }
   },
   "outputs": [
    {
     "name": "stdout",
     "output_type": "stream",
     "text": [
      "We estimate the global biomass of Phaeocystis based on our bottom-up approach at ≈0.3 Gt C\n"
     ]
    }
   ],
   "source": [
    "# Calculate the geometric mean of the \"minimum\" and \"maximum\" estimates from Buitenhuis et al.\n",
    "# for Phaeocystis\n",
    "phaeocystis_biomsss = gmean([0.11e15,0.71e15])\n",
    "print('We estimate the global biomass of Phaeocystis based on our bottom-up approach at ≈%.1f Gt C' % (phaeocystis_biomsss/1e15))"
   ]
  },
  {
   "cell_type": "markdown",
   "metadata": {},
   "source": [
    "As stated in [Buitenhuis et al.](https://ueaeprints.uea.ac.uk/40778/), the data from the MAREDAT initiative doesn’t contain the biomass of nanophytoplankton (phytoplankton between 2 and 20 µm) and autotrophic dinoflagellates. Nevertheless, this omission might be compensated by overestimation of Phaeocystis biomass because of sampling bias, so overall the sum of all the different phytoplankton fits well with total chlorophyll measurements from the WOA 2005.\n",
    "\n",
    "### Green algae\n",
    "In addition to green algae which are part of the picophytoplankton size group, there are also green algae which are larger. We could not find a good source to constrain the global biomass of green algae in larger size fractions. Therefore, we rely on several lines of evidence to provide a coarse estimate for the global biomass of green algae. A recent [study](https://doi.org/10.1038/ismej.2016.120) quantified the contribution of chlorophyta (green algae) to the total phytoplankton community at all size fractions based on 18S rRNA metabarcoding. Sampling in diverse locations in the ocean, they find chlorophytes contribute about 10-20% of the total number of photosynthetic reads. Relying on 18S sequence abundance as a proxy for biomass is not a well-established practice, and has various biases. Thus, we also rely on an independent method for estimating the biomass contribution of chlorophytes to the total phytoplankton biomass. A recent [report](https://doi.org/10.1002/lno.10452) has looked at the phytoplankton community composition in the deep chlorophyll maximum in the north east Atlantic Ocean based on FISH and flow-cytometry. The average contribution of chlorophyta to the total phytoplankton community reported in this study is ≈15%, which corresponds well with the 18S sequencing data. Thus, our best estimate for the global biomass of chlorophytes is 15% of the total biomass of phytoplankton.\n",
    "\n",
    "### Overall phytoplankton biomass\n",
    "We sum the contributions from each group (cyanobacteria, protists and plants):"
   ]
  },
  {
   "cell_type": "code",
   "execution_count": 7,
   "metadata": {},
   "outputs": [
    {
     "name": "stdout",
     "output_type": "stream",
     "text": [
      "We estimate the global biomass of phytoplankton based on our bottom-up approach at ≈1.1 Gt C\n"
     ]
    },
    {
     "data": {
      "text/plain": [
       "0.17191590536954346"
      ]
     },
     "execution_count": 7,
     "metadata": {},
     "output_type": "execute_result"
    }
   ],
   "source": [
    "bottom_cyano = cyano_biomass\n",
    "bottom_protist = auto_pico_protists_biomass+diatom_biomsss+phaeocystis_biomsss\n",
    "\n",
    "# We take the biomass of green algae and 15% of the total biomass of the total biomass of phytoplankton\n",
    "bottom_plant = (bottom_cyano+diatom_biomsss+phaeocystis_biomsss+auto_picoeuk_biomass)*0.15/0.85\n",
    "\n",
    "print('We estimate the global biomass of phytoplankton based on our bottom-up approach at ≈%.1f Gt C' % ((bottom_cyano+bottom_plant+bottom_protist)/1e15))\n",
    "bottom_cyano/1e15"
   ]
  },
  {
   "cell_type": "markdown",
   "metadata": {},
   "source": [
    "## Top-down\n",
    "\n",
    "We use an estimate for the total biomass of phytoplankton of 0.4 Gt C from [Behrenfeld et al. 2005](https://doi.org/10.1029/2004GB002299) and [Silsbe et al. 2016](https://doi.org/10.1002/2016GB005521). Similar to our earlier estimate, we assume green microalgae account for ≈15% of the total biomass of phytoplankton, which corresponds to:"
   ]
  },
  {
   "cell_type": "code",
   "execution_count": 8,
   "metadata": {},
   "outputs": [
    {
     "name": "stdout",
     "output_type": "stream",
     "text": [
      "We estimate the global biomass of green microalgae based on our bottom-up approach at ≈0.06 Gt C\n"
     ]
    }
   ],
   "source": [
    "tot_phy = 0.4e15\n",
    "top_plant = tot_phy*0.15\n",
    "print('We estimate the global biomass of green microalgae based on our bottom-up approach at ≈%.2f Gt C' %(top_plant/1e15))"
   ]
  },
  {
   "cell_type": "markdown",
   "metadata": {},
   "source": [
    "We estimate the contribution from cyanobacteria based on [Flombaum et al. 2013](https://doi.org/10.1073/pnas.1307701110). Flombaum et al. estimate a total of $≈3×10^{27}$ and $≈7×10^{26}$ cells for Prochlorococcus and Synechococcus, respectively. To convert cellular abundances into biomass, we need to rely on estimates for the carbon content of both Prochlorococcus and Synechococcus. Data from [Buitenhuis et al.](https://ueaeprints.uea.ac.uk/40778/), both from culture data as well as from indirect measurements in the field suggest the range of 16-92 fg C cell$^{-1}$ for Prochlorococcus and 82-600 fg C cell$^{-1}$ for Synechococcus. A recent [study](https://doi.org/10.1002/lno.10452) suggested that the carbon content of Prochlorococcus and Synechococcus is dependent on the ambient illumination conditions, with cells have lower carbon content at higher illumination, and stabilize at ≈50 fg C cell-1 for Prochlorococcus and ≈100 fg C cell-1 for Synechococcus if cells experience above 1% of the surface photosynthetically active radiation. Based on their global distribution [Flombaum et al. 2013 (Fig. 1B)](https://doi.org/10.1073/pnas.1307701110), most Prochlorococcus and Synechococcus are found in locations in which ambient light is above this threshold, and thus we use a value of ≈50 fg C cell$^{-1}$ for Prochlorococcus and ≈100 fg C cell$^{-1}$ for Synechococcus, which correspond to a global estimate of ≈0.2 Gt C. "
   ]
  },
  {
   "cell_type": "code",
   "execution_count": 9,
   "metadata": {},
   "outputs": [
    {
     "name": "stdout",
     "output_type": "stream",
     "text": [
      "We estimate the global biomass of cyanobacteria based on our top-down approach at ≈0.2 Gt C\n"
     ]
    }
   ],
   "source": [
    "# Total number of cells and carbon content of Prochlorococcus\n",
    "proc = 3e27\n",
    "proc_cc = 50e-15\n",
    "\n",
    "# Total number of cells and carbon content of Synechococcus\n",
    "syne = 7e26\n",
    "syne_cc = 100e-15\n",
    "\n",
    "proc_biomass = proc*proc_cc\n",
    "syne_bioamss = syne*syne_cc\n",
    "top_cyano = proc_biomass+syne_bioamss\n",
    "print('We estimate the global biomass of cyanobacteria based on our top-down approach at ≈%.1f Gt C' %(top_cyano/1e15))"
   ]
  },
  {
   "cell_type": "markdown",
   "metadata": {},
   "source": [
    "Using the biomass estimates for the global biomass of phytoplanton, this leaves ≈0.12 Gt C for protist phytoplankton:"
   ]
  },
  {
   "cell_type": "code",
   "execution_count": 10,
   "metadata": {},
   "outputs": [
    {
     "name": "stdout",
     "output_type": "stream",
     "text": [
      "We estimate the global biomass of protist phytoplankton based on our bottom-up approach at ≈0.12 Gt C\n"
     ]
    }
   ],
   "source": [
    "top_protist = tot_phy-top_plant-top_cyano\n",
    "print('We estimate the global biomass of protist phytoplankton based on our bottom-up approach at ≈%.2f Gt C' %(top_protist/1e15))"
   ]
  },
  {
   "cell_type": "markdown",
   "metadata": {},
   "source": [
    "## Combining the two approaches\n",
    "As our best estimate, we use the geometric mean of the estimates based on the bottom-up and top-down approaches."
   ]
  },
  {
   "cell_type": "code",
   "execution_count": 11,
   "metadata": {},
   "outputs": [
    {
     "name": "stdout",
     "output_type": "stream",
     "text": [
      "Our best estimate for the global biomass of cyanobacteria is ≈0.2 Gt C\n"
     ]
    }
   ],
   "source": [
    "best_cyano = gmean([bottom_cyano,top_cyano])\n",
    "print('Our best estimate for the global biomass of cyanobacteria is ≈%.1f Gt C' %(best_cyano/1e15))"
   ]
  },
  {
   "cell_type": "code",
   "execution_count": 12,
   "metadata": {},
   "outputs": [
    {
     "name": "stdout",
     "output_type": "stream",
     "text": [
      "Our best estimate for the global biomass of plant phytoplankton is ≈0.1 Gt C\n"
     ]
    }
   ],
   "source": [
    "best_plant = gmean([bottom_plant,top_plant])\n",
    "print('Our best estimate for the global biomass of plant phytoplankton is ≈%.1f Gt C' %(best_plant/1e15))"
   ]
  },
  {
   "cell_type": "code",
   "execution_count": 13,
   "metadata": {},
   "outputs": [
    {
     "name": "stdout",
     "output_type": "stream",
     "text": [
      "Our best estimate for the global biomass of protist phytoplankton is ≈0.3 Gt C\n"
     ]
    }
   ],
   "source": [
    "best_protist = gmean([bottom_protist,top_protist])\n",
    "print('Our best estimate for the global biomass of protist phytoplankton is ≈%.1f Gt C' %(best_protist/1e15))"
   ]
  },
  {
   "cell_type": "markdown",
   "metadata": {},
   "source": [
    "## Uncertainty\n",
    "We rely on the difference between our bottom-up and top-down approaches as our best projection for the uncertainty associated with our estimates of the biomass of plant and protist phytoplankton:"
   ]
  },
  {
   "cell_type": "code",
   "execution_count": 14,
   "metadata": {},
   "outputs": [
    {
     "name": "stdout",
     "output_type": "stream",
     "text": [
      "Our best projection for the uncertainty associated with our estimate of the global biomass of plant phytoplankton is ≈2.9-fold\n"
     ]
    }
   ],
   "source": [
    "plant_CI = geo_CI_calc(np.array([bottom_plant,top_plant]))\n",
    "\n",
    "print('Our best projection for the uncertainty associated with our estimate of the global biomass of plant phytoplankton is ≈%.1f-fold' %(plant_CI))"
   ]
  },
  {
   "cell_type": "code",
   "execution_count": 15,
   "metadata": {},
   "outputs": [
    {
     "name": "stdout",
     "output_type": "stream",
     "text": [
      "Our best projection for the uncertainty associated with our estimate of the global biomass of protist phytoplankton is ≈6.3-fold\n"
     ]
    }
   ],
   "source": [
    "protist_CI = geo_CI_calc(np.array([bottom_protist,top_protist]))\n",
    "print('Our best projection for the uncertainty associated with our estimate of the global biomass of protist phytoplankton is ≈%.1f-fold' %(protist_CI))"
   ]
  },
  {
   "cell_type": "code",
   "execution_count": 16,
   "metadata": {},
   "outputs": [],
   "source": [
    "update_results(sheet='Data', \n",
    "               row='Bacterial phytoplankton', \n",
    "               col=['Biomass'],\n",
    "               values=[best_cyano/1e15],\n",
    "               path='../results/results.xlsx')\n",
    "\n",
    "update_results(sheet='Data', \n",
    "               row='Green algae phytoplankton', \n",
    "               col='Biomass',\n",
    "               values=best_plant/1e15,\n",
    "               path='../results/results.xlsx')\n",
    "\n",
    "update_results(sheet='Data', \n",
    "               row='Protist phytoplankton', \n",
    "               col=['Biomass', 'Uncertainty'],\n",
    "               values=[best_protist/1e15,protist_CI],\n",
    "               path='../results/results.xlsx')"
   ]
  }
 ],
 "metadata": {
  "kernelspec": {
   "display_name": "Python 3",
   "language": "python",
   "name": "python3"
  },
  "language_info": {
   "codemirror_mode": {
    "name": "ipython",
    "version": 3
   },
   "file_extension": ".py",
   "mimetype": "text/x-python",
   "name": "python",
   "nbconvert_exporter": "python",
   "pygments_lexer": "ipython3",
   "version": "3.7.3"
  }
 },
 "nbformat": 4,
 "nbformat_minor": 4
}
