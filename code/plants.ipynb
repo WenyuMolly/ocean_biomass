{
 "cells": [
  {
   "cell_type": "code",
   "execution_count": 1,
   "metadata": {
    "collapsed": true,
    "jupyter": {
     "outputs_hidden": true
    }
   },
   "outputs": [],
   "source": [
    "#Load dependencies\n",
    "\n",
    "import pandas as pd\n",
    "import numpy as np\n",
    "from scipy.stats import gmean\n",
    "import sys\n",
    "sys.path.insert(0,'../statistics_helper/')\n",
    "from stats_helper import *\n",
    "from excel_utils import *\n",
    "from CI_helper import *\n",
    "pd.options.display.float_format = '{:,.1e}'.format"
   ]
  },
  {
   "cell_type": "markdown",
   "metadata": {},
   "source": [
    "# Estimating the biomass of plants\n",
    "In estimating the global biomass of marine plants, we analyze three major groups: microscopic green algae (Chlorophyta), macroscopic green and red algae (Chlorophyta & Rhodophyta), and seagrasses. We combine the estimates of the biomass of each group to attain an estimate of the global mass of plants.\n",
    "\n",
    "## Green microalgae\n",
    "As discussed in the notebook dealing with phytoplankton, our best estimate for the global biomass of green microalgae is ≈0.1 Gt C."
   ]
  },
  {
   "cell_type": "code",
   "execution_count": 2,
   "metadata": {},
   "outputs": [],
   "source": [
    "results = pd.read_excel('../results/results.xlsx','Data')\n",
    "green_micro = results.loc[results.Taxon=='Green algae phytoplankton','Biomass']*1e15"
   ]
  },
  {
   "cell_type": "markdown",
   "metadata": {},
   "source": [
    "## Seagrasses\n",
    "To estimate the total biomass of seagrass, we rely on data reported in [Fourqurean et al.](https://doi.org/10.1038/ngeo1477). Fourqurean et al. report an average carbon density in living biomass of seagrass at ≈250 g C $m^{-2}$, and a median carbon density of ≈100 g C $m^{-2}$. We use the geometric mean of these two estimates as our best estimate for the biomass density of seagrasses:"
   ]
  },
  {
   "cell_type": "code",
   "execution_count": 3,
   "metadata": {},
   "outputs": [
    {
     "name": "stdout",
     "output_type": "stream",
     "text": [
      "Our best estimate for the biomass density of seagrasses is 158 g C m^-2\n"
     ]
    }
   ],
   "source": [
    "# Mean biomass concentration of seagrasses\n",
    "mean_biomass_conc_seagrass =250\n",
    "median_biomass_conc_seagrass =100\n",
    "\n",
    "best_biomass_conc_seagrass = gmean([mean_biomass_conc_seagrass,median_biomass_conc_seagrass])\n",
    "print('Our best estimate for the biomass density of seagrasses is %.0f g C m^-2' % best_biomass_conc_seagrass)"
   ]
  },
  {
   "cell_type": "markdown",
   "metadata": {},
   "source": [
    " Our best estimate of the global distribution of seagrasses is based on two methods. The first is based on *in situ* observation data compilled by the UN Environment World Conservation Monitoring Centre (http://data.unep-wcmc.org/datasets/7). The global area covered by seagrasses based on this method is $≈0.8×10^{12} \\ m^{2}$. The second method is based on using *in situ* occurence along with enviromental metadata to model the global distribution of seagrasses ([Jayathilake & Costello](https://doi.org/10.1016/j.biocon.2018.07.009)). Using this method, the authors estimate the global area covered by seagrasses at $≈1.6×10^{12} \\ m^{2}$. As our best estimate, we use the geometric mean of these two estimates, which is $≈10^{12} \\ m^{2}$. We apply the average biomass density reported in [Fourqurean et al.](https://doi.org/10.1038/ngeo1477) across the entire distribution range to arrive at our best estimate for the biomass of seagrasses, which is ≈0.2 Gt C."
   ]
  },
  {
   "cell_type": "code",
   "execution_count": 4,
   "metadata": {},
   "outputs": [
    {
     "name": "stdout",
     "output_type": "stream",
     "text": [
      "Our best estimate for the total biomass of seagrasses is ≈0.2 Gt C\n"
     ]
    }
   ],
   "source": [
    "# Mean area covered by seagrasses\n",
    "mean_area = np.average([8e11,16e11])\n",
    "\n",
    "best_seagrass = best_biomass_conc_seagrass*mean_area\n",
    "print('Our best estimate for the total biomass of seagrasses is ≈%.1f Gt C' %(best_seagrass/1e15))"
   ]
  },
  {
   "cell_type": "markdown",
   "metadata": {},
   "source": [
    "## Macroalgae\n",
    "Macroalgae consist of a diverse group of multicellular algae, which includes both green (Chlorophyta) and red (Rhodophyta) algae belonging to the plant (Archaoplastida) clade, as well as brown algae (Phaeophytes) which are part of the protist clades. Macroalgae can be both benthic (attached to the seafloor), or planktonic (e.g. the common brown algae genus Sargassum). We first estimate the total biomass of benthic macroalgae, both green, red and brown. We note that holoplanktonic algae (algae which  spend their entire life cycle in open waters) are brown algae (which are protists), and thus we consider them when estimating the global biomass of marine protists.\n",
    "\n",
    "To estimate the biomass of macroalgae we estimate the global range of macroalgae and the average biomass density of macroalgae. For the global area covered by macroalgae, we rely on a lower bound given by [Whittaker & Likens](https://www.ncbi.nlm.nih.gov/pubmed/4807341) of $≈1.4×10^{12} \\ m^{2}$ and an upper bound of $≈5.7×10^{12} \\ m^{2}$ given by [Duarte and Chiscano](https://doi.org/10.1016/S0304-3770(99)00038-8). We use the geometric mean of these lower and upper bounds as our best estimate for the global area covered by macroalgae."
   ]
  },
  {
   "cell_type": "code",
   "execution_count": 5,
   "metadata": {},
   "outputs": [
    {
     "name": "stdout",
     "output_type": "stream",
     "text": [
      "Our best estimate for the global range of macroalgae is 2.8E+12 m^2\n"
     ]
    }
   ],
   "source": [
    "macro_area = gmean([1.4e12,5.7e12])\n",
    "print('Our best estimate for the global range of macroalgae is %.1E m^2' % macro_area)"
   ]
  },
  {
   "cell_type": "markdown",
   "metadata": {},
   "source": [
    "For the biomass density, we rely on published records of the biomass density of macroalgal beds [Cebrian et al. 2009](https://doi.org/10.1371/journal.pone.0004929). The arithmetic and geometric mean of such measurements is 180 and 120 g C m$^{-2}$, respectively."
   ]
  },
  {
   "cell_type": "code",
   "execution_count": 6,
   "metadata": {},
   "outputs": [
    {
     "name": "stdout",
     "output_type": "stream",
     "text": [
      "gmean: 117.8249486348216\n",
      "arithmetic mean: 185.80942793027253\n"
     ]
    }
   ],
   "source": [
    "cebrian = pd.read_excel('../data/macroalgae_biomass_data.xls')\n",
    "macro_data=cebrian[cebrian['community type'] == 'marine macroalgal beds']\n",
    "macro_data = macro_data[macro_data['PB (gCm-2)'] != '.']\n",
    "print('gmean: ' + str(gmean(macro_data['PB (gCm-2)'].astype(float))))\n",
    "print('arithmetic mean: ' + str((macro_data['PB (gCm-2)'].astype(float)).mean()))"
   ]
  },
  {
   "cell_type": "markdown",
   "metadata": {},
   "source": [
    "As our best estimate we use the geometric mean of the arithmetic and geometric mean biomass densities:"
   ]
  },
  {
   "cell_type": "code",
   "execution_count": 7,
   "metadata": {},
   "outputs": [
    {
     "name": "stdout",
     "output_type": "stream",
     "text": [
      "Our best estimate for the average biomass density of macroalgae is ≈148 g C m^-2\n"
     ]
    }
   ],
   "source": [
    "best_macro_density = gmean([gmean(macro_data['PB (gCm-2)'].astype(float)),macro_data['PB (gCm-2)'].astype(float).mean()])\n",
    "print('Our best estimate for the average biomass density of macroalgae is ≈%.0f g C m^-2' % best_macro_density)"
   ]
  },
  {
   "cell_type": "markdown",
   "metadata": {},
   "source": [
    "We multiply our best estimate for the biomass density of macroalgae with our best estimate for the global area covered by macroalgae to arrive at our best estimate for the global biomass of macroalgae:"
   ]
  },
  {
   "cell_type": "code",
   "execution_count": 8,
   "metadata": {},
   "outputs": [
    {
     "name": "stdout",
     "output_type": "stream",
     "text": [
      "Our best estimate for the global biomass of macroalgae is ≈0.4 Gt C\n"
     ]
    }
   ],
   "source": [
    "macro_biomass = best_macro_density*macro_area\n",
    "print('Our best estimate for the global biomass of macroalgae is ≈%.1f Gt C' % (macro_biomass/1e15))"
   ]
  },
  {
   "cell_type": "markdown",
   "metadata": {},
   "source": [
    "For lack of knowledge on the distribution of macroalgal biomass between protist and plant biomass, we divide the biomass equally between these two kingdoms. Thus, our best estimate for the global biomass of plant macroalgae is ≈0.2 Gt C"
   ]
  },
  {
   "cell_type": "markdown",
   "metadata": {},
   "source": [
    "### Global marine plant biomass\n",
    "We combine our estimates for the global biomass of green microalgae, macroalgae and seagrasses to generate our best estimate for the biomass of marine plants:"
   ]
  },
  {
   "cell_type": "code",
   "execution_count": 9,
   "metadata": {},
   "outputs": [
    {
     "name": "stdout",
     "output_type": "stream",
     "text": [
      "Our best estimate for the global biomass of macroalgae is ≈0.5 Gt C\n"
     ]
    }
   ],
   "source": [
    "marine_plants = macro_biomass/2+best_seagrass+green_micro\n",
    "print('Our best estimate for the global biomass of macroalgae is ≈%.1f Gt C' % (marine_plants/1e15))"
   ]
  },
  {
   "cell_type": "markdown",
   "metadata": {},
   "source": [
    "# Uncertainty analysis\n",
    "## Green microalgae\n",
    "In the section estimating the biomass of phytoplankton, we projected the uncertainty of this estimate to be ≈3-fold. As discussed in the phytoplankton section, this estimate has large uncertainty associated with it as the number of studies it is based on is limited. We note that even if we increase the uncertainty associated with the estimate of the biomass of green microalgae to 10-fold to take into account additional uncertainty due to the lack of data, this doesn’t have a large influence on the total uncertainty associated with our estimate of the total biomass of marine plants due their overall small biomass."
   ]
  },
  {
   "cell_type": "code",
   "execution_count": 10,
   "metadata": {},
   "outputs": [],
   "source": [
    "micro_CI = 10"
   ]
  },
  {
   "cell_type": "markdown",
   "metadata": {},
   "source": [
    "## Seagrasses\n",
    "We project the uncertainty associated with our estimate for the biomass of seagrasses by first projecting the uncertainty associated with the biomass density of seagrasses and with the global range of seagrasses, and then propogating these uncertainties to the final estimate."
   ]
  },
  {
   "cell_type": "code",
   "execution_count": 11,
   "metadata": {},
   "outputs": [
    {
     "name": "stdout",
     "output_type": "stream",
     "text": [
      "Our best projection of the uncertainty associated with our estimate of the biomass of seagrasses is ≈3-fold\n"
     ]
    }
   ],
   "source": [
    "# Calculate the 95% confidence interval for the biomass density of seagrasses\n",
    "seagrass_bio_density_CI = geo_CI_calc(np.array([1,2.5]))\n",
    "\n",
    "# Calculate the 95% confidence interval for the global range of seagrasses\n",
    "seagrass_area_CI = geo_CI_calc(np.array([0.8,1.6]))\n",
    "\n",
    "#Propagate the uncertainty in the biomass density and global range to the final estimate\n",
    "seagrass_CI = CI_prod_prop(np.array([seagrass_area_CI,seagrass_bio_density_CI]))\n",
    "\n",
    "print('Our best projection of the uncertainty associated with our estimate of the biomass of seagrasses is ≈%.0f-fold' % seagrass_CI)"
   ]
  },
  {
   "cell_type": "markdown",
   "metadata": {},
   "source": [
    "## Macroalgae\n",
    "We project the uncertainty associated with our estimate for the biomass of macroalgae by first projecting the uncertainty associated with the biomass density of macroalgae and with the global range of macroalgae, and then propogating these uncertainties to the final estimate.\n",
    "For the biomass density of macroalgae, we rely on the 95% confidence interval around the mean biomass density of macroalgae in the dataset from [Cebrian et al. 2009](https://doi.org/10.1371/journal.pone.0004929). For the global range of macroalgae, we rely on the ratio between our best estimate and the upper bound for range of $≈5.7×10^{12} \\ m^{2}$ estimated by [Duarte and Chiscano](https://doi.org/10.1016/S0304-3770(99)00038-8). This uncertainty projection does not include the division of macroalgal biomass between plants and protists, but this type of uncertainty is not expected to influence the overall uncertainty significantly beyond the uncertainty associated with the estimate of the total biomass of marine plants as its maximal influence is increasing of decreasing the biomass of plants by 0.2 Gt C, which compared to our best estimate of ≈0.5 Gt C is on a smaller scale than the overall uncertainty associated with our estimate of the total biomass of marine plants."
   ]
  },
  {
   "cell_type": "code",
   "execution_count": 12,
   "metadata": {},
   "outputs": [
    {
     "name": "stdout",
     "output_type": "stream",
     "text": [
      "Our best projection of the uncertainty associated with our estimate of the biomass of macroalgae is ≈2-fold\n"
     ]
    }
   ],
   "source": [
    "# Calculate the 95% confidence interval for the biomass density of macroalgae\n",
    "macro_bio_CI = geo_CI_calc(macro_data['PB (gCm-2)'].astype(float))\n",
    "\n",
    "# Calculate the 95% confidence interval for the global range of macroalgae\n",
    "macro_area_CI = 5.7e12/macro_area\n",
    "\n",
    "#Propagate the uncertainty in the biomass density and global range to the final estimate\n",
    "macro_CI = CI_prod_prop(np.array([macro_bio_CI,macro_area_CI]))\n",
    "\n",
    "print('Our best projection of the uncertainty associated with our estimate of the biomass of macroalgae is ≈%.0f-fold' % macro_CI)"
   ]
  },
  {
   "cell_type": "markdown",
   "metadata": {},
   "source": [
    "## Global plant biomass\n",
    "We propagate the uncertainty associated with our estimates for the biomass of each group of marine plants to generate our best projection of the uncertainty associated with our estimate for the global biomass of marine plants:"
   ]
  },
  {
   "cell_type": "code",
   "execution_count": 13,
   "metadata": {},
   "outputs": [
    {
     "name": "stdout",
     "output_type": "stream",
     "text": [
      "Our best projection of the uncertainty associated with our estimate of the biomass of marine plants is ≈2.2-fold\n"
     ]
    }
   ],
   "source": [
    "marine_plant_CI = CI_sum_prop(np.array([green_micro,best_seagrass,macro_biomass]),np.array([micro_CI,seagrass_CI,macro_CI]))\n",
    "print('Our best projection of the uncertainty associated with our estimate of the biomass of marine plants is ≈%.1f-fold' % marine_plant_CI)"
   ]
  },
  {
   "cell_type": "code",
   "execution_count": 14,
   "metadata": {},
   "outputs": [],
   "source": [
    "update_results(sheet='Data', \n",
    "               row='Seagrass', \n",
    "               col=['Biomass', 'Uncertainty'],\n",
    "               values=[best_seagrass/1e15,seagrass_CI],\n",
    "               path='../results/results.xlsx')\n",
    "\n",
    "update_results(sheet='Data', \n",
    "               row='Plant macroalgae', \n",
    "               col=['Biomass', 'Uncertainty'],\n",
    "               values=[macro_biomass/1e15/2,macro_CI],\n",
    "               path='../results/results.xlsx')\n",
    "\n",
    "update_results(sheet='Data', \n",
    "               row='Protist macroalgae', \n",
    "               col=['Biomass', 'Uncertainty'],\n",
    "               values=[macro_biomass/1e15/2,macro_CI],\n",
    "               path='../results/results.xlsx')\n",
    "\n",
    "update_results(sheet='Data', \n",
    "               row='Green algae phytoplankton', \n",
    "               col='Uncertainty',\n",
    "               values=micro_CI,\n",
    "               path='../results/results.xlsx')\n"
   ]
  }
 ],
 "metadata": {
  "kernelspec": {
   "display_name": "Python 3",
   "language": "python",
   "name": "python3"
  },
  "language_info": {
   "codemirror_mode": {
    "name": "ipython",
    "version": 3
   },
   "file_extension": ".py",
   "mimetype": "text/x-python",
   "name": "python",
   "nbconvert_exporter": "python",
   "pygments_lexer": "ipython3",
   "version": "3.7.3"
  }
 },
 "nbformat": 4,
 "nbformat_minor": 4
}
