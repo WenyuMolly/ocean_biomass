{
 "cells": [
  {
   "cell_type": "code",
   "execution_count": 1,
   "metadata": {
    "collapsed": true
   },
   "outputs": [],
   "source": [
    "#Load dependencies\n",
    "\n",
    "import pandas as pd\n",
    "import numpy as np\n",
    "from scipy.stats import gmean\n",
    "import sys\n",
    "sys.path.insert(0,'../statistics_helper/')\n",
    "from stats_helper import *\n",
    "from excel_utils import *\n",
    "pd.options.display.float_format = '{:,.1e}'.format"
   ]
  },
  {
   "cell_type": "markdown",
   "metadata": {},
   "source": [
    "# Estimating the biomass of plants\n",
    "In estimating the global biomass of marine plants, we analyze three major groups: microscopic green algae (Chlorophyta), macroscopic green and red algae (Chlorophyta & Rhodophyta), and seagrasses. We combine the estimates of the biomass of each group to attain an estimate of the global mass of plants.\n",
    "\n",
    "## Seagrasses\n",
    "To estimate the total biomass of seagrass, we rely on data reported in [Fourqurean et al.](https://doi.org/10.1038/ngeo1477). Fourqurean et al. report an average carbon density in living biomass of seagrass at ≈250 g C $m^{-2}$, and a median carbon density of ≈100 g C $m^{-2}$. We use the geometric mean of these two estimates as our best estimate for the biomass density of seagrasses:"
   ]
  },
  {
   "cell_type": "code",
   "execution_count": 1,
   "metadata": {},
   "outputs": [
    {
     "name": "stdout",
     "output_type": "stream",
     "text": [
      "Our best estimate for the total biomass of seagrasses is ≈0.3 Gt C\n"
     ]
    }
   ],
   "source": [
    "# Mean biomass concentration of seagrasses\n",
    "mean_biomass_conc_seagrass =250\n",
    "\n",
    "# Mean area covered by seagrasses\n",
    "mean_area = np.average([8e11,16e11])\n",
    "\n",
    "best_seagrass = mean_biomass_conc_seagrass*mean_area\n",
    "print('Our best estimate for the total biomass of seagrasses is ≈%.1f Gt C' %(best_seagrass/1e15))"
   ]
  },
  {
   "cell_type": "markdown",
   "metadata": {},
   "source": [
    " Our best estimate of the global distribution of seagrasses is based on two methods. The first is based on *in situ* observation data compilled by the UN Environment World Conservation Monitoring Centre (http://data.unep-wcmc.org/datasets/7). The global area covered by seagrasses based on this method is $≈0.8×10^{12} \\ m^{2}$. The second method is based on using *in situ* occurence along with enviromental metadata to model the global distribution of seagrasses ([Jayathilake & Costello](https://doi.org/10.1016/j.biocon.2018.07.009)). Using this method, the authors estimate the global area covered by seagrasses at $≈1.6×10^{12} \\ m^{2}$. As our best estimate, we use the geometric mean of these two estimates, which is $≈10^{12} \\ m^{2}$. We apply the average biomass density reported in [Fourqurean et al.](https://doi.org/10.1038/ngeo1477) across the entire distribution range to arrive at our best estimate for the biomass of seagrasses, which is ≈0.3 Gt C."
   ]
  },
  {
   "cell_type": "markdown",
   "metadata": {},
   "source": [
    "## Macroalgae\n"
   ]
  },
  {
   "cell_type": "code",
   "execution_count": 2,
   "metadata": {},
   "outputs": [
    {
     "data": {
      "text/html": [
       "<div>\n",
       "<style scoped>\n",
       "    .dataframe tbody tr th:only-of-type {\n",
       "        vertical-align: middle;\n",
       "    }\n",
       "\n",
       "    .dataframe tbody tr th {\n",
       "        vertical-align: top;\n",
       "    }\n",
       "\n",
       "    .dataframe thead th {\n",
       "        text-align: right;\n",
       "    }\n",
       "</style>\n",
       "<table border=\"1\" class=\"dataframe\">\n",
       "  <thead>\n",
       "    <tr style=\"text-align: right;\">\n",
       "      <th></th>\n",
       "      <th>Map</th>\n",
       "      <th>Total biomass estimate [g C]</th>\n",
       "    </tr>\n",
       "  </thead>\n",
       "  <tbody>\n",
       "    <tr>\n",
       "      <th>0</th>\n",
       "      <td>Cell-based maxima of remote sensing maps</td>\n",
       "      <td>5.4e+17</td>\n",
       "    </tr>\n",
       "    <tr>\n",
       "      <th>1</th>\n",
       "      <td>Ruesch &amp; Gibbs 2008</td>\n",
       "      <td>4.9e+17</td>\n",
       "    </tr>\n",
       "    <tr>\n",
       "      <th>2</th>\n",
       "      <td>Baccini-based map</td>\n",
       "      <td>4.9e+17</td>\n",
       "    </tr>\n",
       "    <tr>\n",
       "      <th>3</th>\n",
       "      <td>Pan-based map</td>\n",
       "      <td>4.7e+17</td>\n",
       "    </tr>\n",
       "    <tr>\n",
       "      <th>4</th>\n",
       "      <td>Saatchi-based map</td>\n",
       "      <td>4.5e+17</td>\n",
       "    </tr>\n",
       "    <tr>\n",
       "      <th>5</th>\n",
       "      <td>FRA-based map</td>\n",
       "      <td>4.0e+17</td>\n",
       "    </tr>\n",
       "    <tr>\n",
       "      <th>6</th>\n",
       "      <td>Cell-based minima of remote sensing maps</td>\n",
       "      <td>3.9e+17</td>\n",
       "    </tr>\n",
       "  </tbody>\n",
       "</table>\n",
       "</div>"
      ],
      "text/plain": [
       "                                        Map  Total biomass estimate [g C]\n",
       "0  Cell-based maxima of remote sensing maps                       5.4e+17\n",
       "1                       Ruesch & Gibbs 2008                       4.9e+17\n",
       "2                         Baccini-based map                       4.9e+17\n",
       "3                             Pan-based map                       4.7e+17\n",
       "4                         Saatchi-based map                       4.5e+17\n",
       "5                             FRA-based map                       4.0e+17\n",
       "6  Cell-based minima of remote sensing maps                       3.9e+17"
      ]
     },
     "execution_count": 2,
     "metadata": {},
     "output_type": "execute_result"
    }
   ],
   "source": [
    "data = pd.read_excel('plant_data.xlsx', skiprows=1)\n",
    "data['Total biomass estimate [g C]'] = data['Total biomass estimate [g C]'].astype(float)\n",
    "data"
   ]
  },
  {
   "cell_type": "markdown",
   "metadata": {},
   "source": [
    "As best estimate of the total biomass of plants, we use the value reported in Erb et al. of 450 Gt C."
   ]
  },
  {
   "cell_type": "code",
   "execution_count": 3,
   "metadata": {},
   "outputs": [
    {
     "name": "stdout",
     "output_type": "stream",
     "text": [
      "Our best estimate for the biomass of plants is ≈450 Gt C\n"
     ]
    }
   ],
   "source": [
    "best_estimate = 450e15\n",
    "print('Our best estimate for the biomass of plants is ≈%.0f Gt C' %(best_estimate/1e15))"
   ]
  },
  {
   "cell_type": "markdown",
   "metadata": {},
   "source": [
    "## Marine plants\n",
    "We estimate the total biomass of seagrass from data reported in [Fourqurean et al.](https://doi.org/10.1038/ngeo1477). Fourqurean report an average carbon density in living biomass of seagrass at ≈250 g C $m^{-2}$. They also estimate the total area of seagrass is ≈300,000-600,000 $km^2$. We multiply the average biomass denisty of plants by the average area covered by seagrass to generate our best estimate of the total biomass of seagrass."
   ]
  },
  {
   "cell_type": "markdown",
   "metadata": {},
   "source": [
    "For macroalgea, we rely on a range of estimates for the total biomass of macroalgae from De Vooys, which reports 0.0075 Gt C and Cherpy-Roubaud & Sournia which report 2.55 Gt C. We use the geometric mean of this range as a crude estimate of the biomass of macroalgae:"
   ]
  },
  {
   "cell_type": "code",
   "execution_count": 5,
   "metadata": {},
   "outputs": [
    {
     "name": "stdout",
     "output_type": "stream",
     "text": [
      "Our best estimate for the total biomass of seagrasses is ≈0.1 Gt C\n"
     ]
    }
   ],
   "source": [
    "best_macroalgae = gmean([0.0075e15,2.55e15])\n",
    "print('Our best estimate for the total biomass of seagrasses is ≈%.1f Gt C' %(best_macroalgae/1e15))"
   ]
  },
  {
   "cell_type": "markdown",
   "metadata": {},
   "source": [
    "# Uncertainty analysis\n",
    "As noted in the plants section in the Supplementary Information, one possible strategy to assess the uncertainty associated with the estimate of the total biomass of plants is to calculate the 95% confidence interval around the best estimate:"
   ]
  },
  {
   "cell_type": "code",
   "execution_count": 30,
   "metadata": {},
   "outputs": [
    {
     "data": {
      "text/plain": [
       "3.892861069423959"
      ]
     },
     "execution_count": 30,
     "metadata": {},
     "output_type": "execute_result"
    }
   ],
   "source": [
    "seagrass_bio_density_CI = 1+0.5/2.5\n",
    "seagrass_bio_density_CI = geo_CI_calc(np.array([1,2.5]))\n",
    "\n",
    "seagrass_area_CI = geo_CI_calc(np.array([0.8,1.6]))\n",
    "CI_prod_prop(np.array([seagrass_area_CI,seagrass_bio_density_CI]))"
   ]
  },
  {
   "cell_type": "code",
   "execution_count": 27,
   "metadata": {},
   "outputs": [
    {
     "ename": "AttributeError",
     "evalue": "'Series' object has no attribute 'as_type'",
     "output_type": "error",
     "traceback": [
      "\u001b[0;31m---------------------------------------------------------------------------\u001b[0m",
      "\u001b[0;31mAttributeError\u001b[0m                            Traceback (most recent call last)",
      "\u001b[0;32m<ipython-input-27-04d766121832>\u001b[0m in \u001b[0;36m<module>\u001b[0;34m()\u001b[0m\n\u001b[1;32m      2\u001b[0m \u001b[0mmacro_data\u001b[0m\u001b[0;34m=\u001b[0m\u001b[0mcebrian\u001b[0m\u001b[0;34m[\u001b[0m\u001b[0mcebrian\u001b[0m\u001b[0;34m[\u001b[0m\u001b[0;34m'community type'\u001b[0m\u001b[0;34m]\u001b[0m \u001b[0;34m==\u001b[0m \u001b[0;34m'marine macroalgal beds'\u001b[0m\u001b[0;34m]\u001b[0m\u001b[0;34m\u001b[0m\u001b[0;34m\u001b[0m\u001b[0m\n\u001b[1;32m      3\u001b[0m \u001b[0mmacro_data\u001b[0m \u001b[0;34m=\u001b[0m \u001b[0mmacro_data\u001b[0m\u001b[0;34m[\u001b[0m\u001b[0mmacro_data\u001b[0m\u001b[0;34m[\u001b[0m\u001b[0;34m'PB (gCm-2)'\u001b[0m\u001b[0;34m]\u001b[0m \u001b[0;34m!=\u001b[0m \u001b[0;34m'.'\u001b[0m\u001b[0;34m]\u001b[0m\u001b[0;34m\u001b[0m\u001b[0;34m\u001b[0m\u001b[0m\n\u001b[0;32m----> 4\u001b[0;31m \u001b[0mmacro_data\u001b[0m\u001b[0;34m[\u001b[0m\u001b[0;34m'PB (gCm-2)'\u001b[0m\u001b[0;34m]\u001b[0m\u001b[0;34m.\u001b[0m\u001b[0mas_type\u001b[0m\u001b[0;34m(\u001b[0m\u001b[0mfloat\u001b[0m\u001b[0;34m)\u001b[0m\u001b[0;34m\u001b[0m\u001b[0;34m\u001b[0m\u001b[0m\n\u001b[0m",
      "\u001b[0;32m/usr/local/lib/python3.6/dist-packages/pandas/core/generic.py\u001b[0m in \u001b[0;36m__getattr__\u001b[0;34m(self, name)\u001b[0m\n\u001b[1;32m   4370\u001b[0m             \u001b[0;32mif\u001b[0m \u001b[0mself\u001b[0m\u001b[0;34m.\u001b[0m\u001b[0m_info_axis\u001b[0m\u001b[0;34m.\u001b[0m\u001b[0m_can_hold_identifiers_and_holds_name\u001b[0m\u001b[0;34m(\u001b[0m\u001b[0mname\u001b[0m\u001b[0;34m)\u001b[0m\u001b[0;34m:\u001b[0m\u001b[0;34m\u001b[0m\u001b[0;34m\u001b[0m\u001b[0m\n\u001b[1;32m   4371\u001b[0m                 \u001b[0;32mreturn\u001b[0m \u001b[0mself\u001b[0m\u001b[0;34m[\u001b[0m\u001b[0mname\u001b[0m\u001b[0;34m]\u001b[0m\u001b[0;34m\u001b[0m\u001b[0;34m\u001b[0m\u001b[0m\n\u001b[0;32m-> 4372\u001b[0;31m             \u001b[0;32mreturn\u001b[0m \u001b[0mobject\u001b[0m\u001b[0;34m.\u001b[0m\u001b[0m__getattribute__\u001b[0m\u001b[0;34m(\u001b[0m\u001b[0mself\u001b[0m\u001b[0;34m,\u001b[0m \u001b[0mname\u001b[0m\u001b[0;34m)\u001b[0m\u001b[0;34m\u001b[0m\u001b[0;34m\u001b[0m\u001b[0m\n\u001b[0m\u001b[1;32m   4373\u001b[0m \u001b[0;34m\u001b[0m\u001b[0m\n\u001b[1;32m   4374\u001b[0m     \u001b[0;32mdef\u001b[0m \u001b[0m__setattr__\u001b[0m\u001b[0;34m(\u001b[0m\u001b[0mself\u001b[0m\u001b[0;34m,\u001b[0m \u001b[0mname\u001b[0m\u001b[0;34m,\u001b[0m \u001b[0mvalue\u001b[0m\u001b[0;34m)\u001b[0m\u001b[0;34m:\u001b[0m\u001b[0;34m\u001b[0m\u001b[0;34m\u001b[0m\u001b[0m\n",
      "\u001b[0;31mAttributeError\u001b[0m: 'Series' object has no attribute 'as_type'"
     ]
    }
   ],
   "source": [
    "cebrian = pd.read_excel('/home/yinonbaron/Dropbox (Weizmann Institute)/Projects/Ocean biomaps/CebrianDataSet_partial (1).xls')\n",
    "macro_data=cebrian[cebrian['community type'] == 'marine macroalgal beds']\n",
    "macro_data = macro_data[macro_data['PB (gCm-2)'] != '.']\n",
    "macro_data['PB (gCm-2)']"
   ]
  },
  {
   "cell_type": "code",
   "execution_count": 6,
   "metadata": {},
   "outputs": [
    {
     "name": "stdout",
     "output_type": "stream",
     "text": [
      "The 95 percent confidence interval around our best estimate for the total biomass of plants is ≈1.1-fold\n"
     ]
    }
   ],
   "source": [
    "estimate_CI = geo_CI_calc(data['Total biomass estimate [g C]'])\n",
    "print('The 95 percent confidence interval around our best estimate for the total biomass of plants is ≈%.1f-fold' %estimate_CI)"
   ]
  },
  {
   "cell_type": "markdown",
   "metadata": {},
   "source": [
    "In order to account for additional sources of uncertainty not captured by calculating the 95% confidence interval, we use the ratio between uper and lower most estimates relative to our best estimate as our best projection for the uncertainty associated with our estimate of the total biomass of plants:"
   ]
  },
  {
   "cell_type": "code",
   "execution_count": 7,
   "metadata": {},
   "outputs": [
    {
     "name": "stdout",
     "output_type": "stream",
     "text": [
      "Our best projection for the uncertainty associated with the estimate of the total biomass of plants is ≈1.2-fold\n"
     ]
    }
   ],
   "source": [
    "upper_CI = data['Total biomass estimate [g C]'].max()/best_estimate\n",
    "lower_CI = best_estimate/data['Total biomass estimate [g C]'].min()\n",
    "\n",
    "mul_CI = np.max([upper_CI,lower_CI])\n",
    "\n",
    "print('Our best projection for the uncertainty associated with the estimate of the total biomass of plants is ≈%.1f-fold' %mul_CI)"
   ]
  },
  {
   "cell_type": "markdown",
   "metadata": {},
   "source": [
    "# Total number of invididuals\n",
    "We estimate the total number of trees, based on a recent study ([Crowther et al.](http://dx.doi.org/10.1038/nature16178)). Include all plant species will definitely increase the estimate dramatically, but due to the high diversity of species and characteristic sizes of different plant species, it is very difficult to estimate the total number of plants in the biosphere. Crowther et al. estimate ≈$3×10^{12}$ trees."
   ]
  },
  {
   "cell_type": "code",
   "execution_count": 8,
   "metadata": {
    "collapsed": true
   },
   "outputs": [],
   "source": [
    "tot_tree_num = 3e12"
   ]
  },
  {
   "cell_type": "code",
   "execution_count": 9,
   "metadata": {
    "collapsed": true
   },
   "outputs": [],
   "source": [
    "# Feed results to Table 1 & Fig. 1\n",
    "update_results(sheet='Table1 & Fig1', \n",
    "               row=('Plants','Plants'), \n",
    "               col=['Biomass [Gt C]', 'Uncertainty','Total uncertainty'],\n",
    "               values=[best_estimate/1e15,mul_CI,mul_CI],\n",
    "               path='../results.xlsx')\n",
    "\n",
    "# Feed results to Fig. 2C\n",
    "# Feed seagrass biomass\n",
    "update_fig2c(row=21,col=1,values=best_seagrass/1e15, path='../results.xlsx')\n",
    "\n",
    "# Feed macroalgae biomass\n",
    "update_fig2c(row=22,col=1,values=best_macroalgae/1e15, path='../results.xlsx')\n",
    "\n",
    "# Feed results to Table S1\n",
    "update_results(sheet='Table S1', \n",
    "               row=('Plants','Plants'), \n",
    "               col=['Number of individuals'],\n",
    "               values=tot_tree_num,\n",
    "               path='../results.xlsx')"
   ]
  }
 ],
 "metadata": {
  "kernelspec": {
   "display_name": "Python 3",
   "language": "python",
   "name": "python3"
  },
  "language_info": {
   "codemirror_mode": {
    "name": "ipython",
    "version": 3
   },
   "file_extension": ".py",
   "mimetype": "text/x-python",
   "name": "python",
   "nbconvert_exporter": "python",
   "pygments_lexer": "ipython3",
   "version": "3.6.7"
  }
 },
 "nbformat": 4,
 "nbformat_minor": 2
}
